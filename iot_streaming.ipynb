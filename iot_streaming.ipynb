{
 "cells": [
  {
   "cell_type": "code",
   "execution_count": 0,
   "metadata": {
    "application/vnd.databricks.v1+cell": {
     "cellMetadata": {
      "byteLimit": 2048000,
      "rowLimit": 10000
     },
     "inputWidgets": {},
     "nuid": "8d3aa4bf-f8b2-4c4d-ab17-329321a2a48e",
     "showTitle": false,
     "tableResultSettingsMap": {},
     "title": ""
    }
   },
   "outputs": [],
   "source": [
    "%python\n",
    "iot_endp = \""\n",
    "ehConfig = {   \n",
    "    \"eventhubs.connectionString\": sc._jvm.org.apache.spark.eventhubs.EventHubsUtils.encrypt(iot_endp),\n",
    "    \"ehName\": \"iotdevice\",\n",
    "    \"eventhubs.consumerGroup\": \"$Default\"\n",
    "}"
   ]
  },
  {
   "cell_type": "code",
   "execution_count": 0,
   "metadata": {
    "application/vnd.databricks.v1+cell": {
     "cellMetadata": {
      "byteLimit": 2048000,
      "rowLimit": 10000
     },
     "inputWidgets": {},
     "nuid": "a0aa4b12-cd4a-4da9-8412-170e90f1dc37",
     "showTitle": false,
     "tableResultSettingsMap": {},
     "title": ""
    }
   },
   "outputs": [],
   "source": [
    "from pyspark.sql.types import StructType, StructField, StringType, FloatType, TimestampType , IntegerType\n",
    "\n",
    "spark.conf.set(\"spark.databricks.delta.optimizeWrite.enabled\",\"true\")\n",
    "spark.conf.set(\"spark.databricks.delta.autoCompact.enabled\",\"true\")\n",
    "\n",
    "json_schema = StructType([\n",
    "    StructField(\"Consumer_ID\", StringType(), True),\n",
    "    StructField(\"Device_ID\", StringType(), True),\n",
    "    StructField(\"Timestamp\", TimestampType(), True),\n",
    "    StructField(\"Energy_Consumption_kWh\", FloatType(), True),\n",
    "    StructField(\"Peak_Demand_kW\", FloatType(), True),\n",
    "    StructField(\"Threshold_Limit_kWh\", FloatType(), True),\n",
    "    StructField(\"Voltage_Level\", IntegerType(), True)\n",
    "])\n"
   ]
  },
  {
   "cell_type": "code",
   "execution_count": 0,
   "metadata": {
    "application/vnd.databricks.v1+cell": {
     "cellMetadata": {
      "byteLimit": 2048000,
      "rowLimit": 10000
     },
     "inputWidgets": {},
     "nuid": "a8c51536-f3ad-47d4-9be7-95c8cc96f0b5",
     "showTitle": false,
     "tableResultSettingsMap": {},
     "title": ""
    }
   },
   "outputs": [
    {
     "output_type": "display_data",
     "data": {
      "text/html": [
       "<style scoped>\n",
       "  .table-result-container {\n",
       "    max-height: 300px;\n",
       "    overflow: auto;\n",
       "  }\n",
       "  table, th, td {\n",
       "    border: 1px solid black;\n",
       "    border-collapse: collapse;\n",
       "  }\n",
       "  th, td {\n",
       "    padding: 5px;\n",
       "  }\n",
       "  th {\n",
       "    text-align: left;\n",
       "  }\n",
       "</style><div class='table-result-container'><table class='table-result'><thead style='background-color: white'><tr><th>Consumer_ID</th><th>Device_ID</th><th>Timestamp</th><th>Energy_Consumption_kWh</th><th>Peak_Demand_kW</th><th>Threshold_Limit_kWh</th><th>Voltage_Level</th></tr></thead><tbody><tr><td>1010</td><td>D002</td><td>2024-12-30T16:26:32Z</td><td>0.258</td><td>2.79</td><td>5.0</td><td>221</td></tr><tr><td>1010</td><td>D005</td><td>2024-12-30T16:26:33Z</td><td>0.27</td><td>3.87</td><td>5.0</td><td>233</td></tr><tr><td>1007</td><td>D005</td><td>2024-12-30T16:26:35Z</td><td>0.366</td><td>7.06</td><td>3.5</td><td>220</td></tr><tr><td>1001</td><td>D002</td><td>2024-12-30T16:26:36Z</td><td>0.758</td><td>7.93</td><td>5.0</td><td>224</td></tr><tr><td>1003</td><td>D004</td><td>2024-12-30T16:26:37Z</td><td>2.567</td><td>5.88</td><td>4.5</td><td>238</td></tr><tr><td>1005</td><td>D001</td><td>2024-12-30T16:26:38Z</td><td>3.889</td><td>4.03</td><td>4.0</td><td>230</td></tr><tr><td>1010</td><td>D003</td><td>2024-12-30T16:26:40Z</td><td>3.353</td><td>9.95</td><td>4.5</td><td>231</td></tr><tr><td>1005</td><td>D005</td><td>2024-12-30T16:26:41Z</td><td>1.704</td><td>6.44</td><td>3.5</td><td>222</td></tr><tr><td>1002</td><td>D002</td><td>2024-12-30T16:26:42Z</td><td>3.149</td><td>0.95</td><td>4.5</td><td>231</td></tr><tr><td>1007</td><td>D002</td><td>2024-12-30T16:26:43Z</td><td>0.152</td><td>4.28</td><td>3.5</td><td>230</td></tr><tr><td>1006</td><td>D002</td><td>2024-12-30T16:26:44Z</td><td>3.472</td><td>7.89</td><td>5.0</td><td>235</td></tr><tr><td>1007</td><td>D005</td><td>2024-12-30T16:26:46Z</td><td>1.121</td><td>9.46</td><td>4.0</td><td>232</td></tr><tr><td>1009</td><td>D001</td><td>2024-12-30T16:26:47Z</td><td>1.122</td><td>2.41</td><td>5.0</td><td>232</td></tr><tr><td>1007</td><td>D001</td><td>2024-12-30T16:26:48Z</td><td>1.459</td><td>6.62</td><td>4.0</td><td>225</td></tr><tr><td>1002</td><td>D003</td><td>2024-12-30T16:26:49Z</td><td>1.927</td><td>3.28</td><td>4.5</td><td>232</td></tr><tr><td>1008</td><td>D003</td><td>2024-12-30T16:26:50Z</td><td>3.269</td><td>5.21</td><td>4.0</td><td>233</td></tr><tr><td>1009</td><td>D002</td><td>2024-12-30T16:26:52Z</td><td>4.829</td><td>5.02</td><td>4.0</td><td>226</td></tr><tr><td>1002</td><td>D005</td><td>2024-12-30T16:26:53Z</td><td>3.776</td><td>3.75</td><td>5.0</td><td>222</td></tr><tr><td>1005</td><td>D003</td><td>2024-12-30T16:26:54Z</td><td>1.805</td><td>1.41</td><td>5.0</td><td>238</td></tr><tr><td>1005</td><td>D004</td><td>2024-12-30T16:26:55Z</td><td>3.16</td><td>1.26</td><td>4.0</td><td>236</td></tr><tr><td>1003</td><td>D004</td><td>2024-12-30T16:26:56Z</td><td>3.379</td><td>6.74</td><td>4.0</td><td>226</td></tr><tr><td>1001</td><td>D001</td><td>2024-12-30T16:26:58Z</td><td>4.353</td><td>1.55</td><td>5.0</td><td>237</td></tr><tr><td>1009</td><td>D005</td><td>2024-12-30T16:26:59Z</td><td>1.728</td><td>5.38</td><td>4.5</td><td>227</td></tr><tr><td>1005</td><td>D004</td><td>2024-12-30T16:27:00Z</td><td>0.575</td><td>6.13</td><td>4.5</td><td>232</td></tr><tr><td>1003</td><td>D002</td><td>2024-12-30T16:27:01Z</td><td>3.703</td><td>9.53</td><td>4.5</td><td>225</td></tr><tr><td>1007</td><td>D003</td><td>2024-12-30T16:27:02Z</td><td>2.91</td><td>4.18</td><td>3.5</td><td>234</td></tr><tr><td>1001</td><td>D004</td><td>2024-12-30T16:27:04Z</td><td>2.591</td><td>7.6</td><td>4.5</td><td>231</td></tr><tr><td>1002</td><td>D003</td><td>2024-12-30T16:27:05Z</td><td>0.268</td><td>1.4</td><td>3.5</td><td>232</td></tr><tr><td>1005</td><td>D002</td><td>2024-12-30T16:27:06Z</td><td>2.724</td><td>2.91</td><td>4.5</td><td>234</td></tr><tr><td>1009</td><td>D003</td><td>2024-12-30T16:27:07Z</td><td>0.598</td><td>4.47</td><td>4.5</td><td>231</td></tr><tr><td>1001</td><td>D002</td><td>2024-12-30T16:27:09Z</td><td>4.591</td><td>7.49</td><td>4.0</td><td>238</td></tr><tr><td>1005</td><td>D002</td><td>2024-12-30T16:27:10Z</td><td>1.022</td><td>7.11</td><td>3.5</td><td>221</td></tr><tr><td>1009</td><td>D003</td><td>2024-12-30T16:27:11Z</td><td>2.393</td><td>2.49</td><td>5.0</td><td>225</td></tr><tr><td>1004</td><td>D005</td><td>2024-12-30T16:27:12Z</td><td>2.779</td><td>9.33</td><td>5.0</td><td>239</td></tr><tr><td>1002</td><td>D002</td><td>2024-12-30T16:27:13Z</td><td>2.939</td><td>5.85</td><td>4.5</td><td>226</td></tr><tr><td>1004</td><td>D001</td><td>2024-12-30T16:27:14Z</td><td>0.648</td><td>7.07</td><td>5.0</td><td>239</td></tr><tr><td>1009</td><td>D004</td><td>2024-12-30T16:27:16Z</td><td>2.925</td><td>1.84</td><td>5.0</td><td>236</td></tr><tr><td>1004</td><td>D001</td><td>2024-12-30T16:27:17Z</td><td>4.226</td><td>5.21</td><td>3.5</td><td>234</td></tr><tr><td>1001</td><td>D002</td><td>2024-12-30T16:27:18Z</td><td>0.132</td><td>7.24</td><td>4.0</td><td>230</td></tr><tr><td>1002</td><td>D003</td><td>2024-12-30T16:27:19Z</td><td>0.482</td><td>1.36</td><td>4.0</td><td>238</td></tr><tr><td>1007</td><td>D004</td><td>2024-12-30T16:27:20Z</td><td>1.095</td><td>5.29</td><td>4.0</td><td>220</td></tr><tr><td>1003</td><td>D002</td><td>2024-12-30T16:27:21Z</td><td>4.236</td><td>5.29</td><td>3.5</td><td>237</td></tr><tr><td>1004</td><td>D003</td><td>2024-12-30T16:27:22Z</td><td>2.385</td><td>6.34</td><td>4.5</td><td>237</td></tr><tr><td>1005</td><td>D001</td><td>2024-12-30T16:27:24Z</td><td>2.414</td><td>4.84</td><td>5.0</td><td>236</td></tr><tr><td>1008</td><td>D001</td><td>2024-12-30T16:27:25Z</td><td>0.211</td><td>8.47</td><td>4.0</td><td>226</td></tr><tr><td>1007</td><td>D001</td><td>2024-12-30T16:27:26Z</td><td>3.657</td><td>5.12</td><td>5.0</td><td>232</td></tr><tr><td>1002</td><td>D004</td><td>2024-12-30T16:27:27Z</td><td>2.615</td><td>6.59</td><td>4.5</td><td>234</td></tr><tr><td>1005</td><td>D001</td><td>2024-12-30T16:27:28Z</td><td>4.97</td><td>1.82</td><td>4.5</td><td>229</td></tr><tr><td>1007</td><td>D002</td><td>2024-12-30T16:27:31Z</td><td>2.175</td><td>6.99</td><td>5.0</td><td>229</td></tr><tr><td>1005</td><td>D005</td><td>2024-12-30T16:27:33Z</td><td>1.842</td><td>0.82</td><td>3.5</td><td>228</td></tr><tr><td>1006</td><td>D003</td><td>2024-12-30T16:27:34Z</td><td>3.309</td><td>7.08</td><td>4.0</td><td>231</td></tr><tr><td>1004</td><td>D005</td><td>2024-12-30T16:27:35Z</td><td>1.223</td><td>8.86</td><td>4.0</td><td>233</td></tr><tr><td>1002</td><td>D001</td><td>2024-12-30T16:27:36Z</td><td>0.614</td><td>1.03</td><td>5.0</td><td>240</td></tr><tr><td>1004</td><td>D001</td><td>2024-12-30T16:27:37Z</td><td>0.969</td><td>6.27</td><td>4.5</td><td>221</td></tr><tr><td>1002</td><td>D003</td><td>2024-12-30T16:27:39Z</td><td>3.549</td><td>3.65</td><td>5.0</td><td>239</td></tr><tr><td>1008</td><td>D003</td><td>2024-12-30T16:27:40Z</td><td>2.99</td><td>8.55</td><td>4.5</td><td>232</td></tr><tr><td>1004</td><td>D001</td><td>2024-12-30T16:27:41Z</td><td>4.271</td><td>2.35</td><td>3.5</td><td>227</td></tr><tr><td>1001</td><td>D005</td><td>2024-12-30T16:27:42Z</td><td>3.459</td><td>2.31</td><td>3.5</td><td>220</td></tr><tr><td>1010</td><td>D004</td><td>2024-12-30T16:27:44Z</td><td>3.129</td><td>9.63</td><td>4.5</td><td>234</td></tr><tr><td>1003</td><td>D003</td><td>2024-12-30T16:27:46Z</td><td>0.12</td><td>1.65</td><td>5.0</td><td>233</td></tr><tr><td>1003</td><td>D003</td><td>2024-12-30T16:27:47Z</td><td>0.18</td><td>4.16</td><td>4.0</td><td>233</td></tr><tr><td>1006</td><td>D002</td><td>2024-12-30T16:27:48Z</td><td>3.971</td><td>2.96</td><td>5.0</td><td>225</td></tr><tr><td>1009</td><td>D005</td><td>2024-12-30T16:27:50Z</td><td>3.957</td><td>4.03</td><td>4.0</td><td>228</td></tr><tr><td>1009</td><td>D003</td><td>2024-12-30T16:27:51Z</td><td>1.8</td><td>1.84</td><td>4.5</td><td>236</td></tr><tr><td>1002</td><td>D005</td><td>2024-12-30T16:27:52Z</td><td>3.543</td><td>5.15</td><td>3.5</td><td>231</td></tr><tr><td>1007</td><td>D003</td><td>2024-12-30T16:27:53Z</td><td>2.032</td><td>3.39</td><td>5.0</td><td>231</td></tr><tr><td>1008</td><td>D003</td><td>2024-12-30T16:27:54Z</td><td>1.103</td><td>5.13</td><td>5.0</td><td>227</td></tr><tr><td>1010</td><td>D005</td><td>2024-12-30T16:27:56Z</td><td>2.294</td><td>4.35</td><td>5.0</td><td>226</td></tr><tr><td>1001</td><td>D002</td><td>2024-12-30T16:27:57Z</td><td>1.918</td><td>4.8</td><td>3.5</td><td>221</td></tr><tr><td>1004</td><td>D005</td><td>2024-12-30T16:27:58Z</td><td>2.298</td><td>3.05</td><td>4.5</td><td>228</td></tr><tr><td>1008</td><td>D003</td><td>2024-12-30T16:27:59Z</td><td>3.233</td><td>9.48</td><td>4.0</td><td>231</td></tr><tr><td>1002</td><td>D003</td><td>2024-12-30T16:28:01Z</td><td>3.562</td><td>8.83</td><td>4.5</td><td>223</td></tr><tr><td>1003</td><td>D002</td><td>2024-12-30T16:28:02Z</td><td>0.469</td><td>4.39</td><td>4.5</td><td>226</td></tr><tr><td>1004</td><td>D005</td><td>2024-12-30T16:28:03Z</td><td>1.446</td><td>2.42</td><td>4.5</td><td>233</td></tr><tr><td>1001</td><td>D005</td><td>2024-12-30T16:28:04Z</td><td>4.55</td><td>2.39</td><td>4.5</td><td>240</td></tr><tr><td>1003</td><td>D003</td><td>2024-12-30T16:28:06Z</td><td>4.269</td><td>5.11</td><td>4.5</td><td>234</td></tr><tr><td>1007</td><td>D004</td><td>2024-12-30T16:28:07Z</td><td>3.512</td><td>4.54</td><td>4.5</td><td>223</td></tr><tr><td>1006</td><td>D001</td><td>2024-12-30T16:28:08Z</td><td>4.591</td><td>8.03</td><td>4.5</td><td>238</td></tr><tr><td>1010</td><td>D003</td><td>2024-12-30T16:28:09Z</td><td>3.79</td><td>3.06</td><td>5.0</td><td>236</td></tr><tr><td>1002</td><td>D002</td><td>2024-12-30T16:28:10Z</td><td>2.292</td><td>7.72</td><td>4.5</td><td>221</td></tr><tr><td>1006</td><td>D005</td><td>2024-12-30T16:28:11Z</td><td>3.263</td><td>4.21</td><td>3.5</td><td>240</td></tr><tr><td>1009</td><td>D001</td><td>2024-12-30T16:28:13Z</td><td>3.702</td><td>3.81</td><td>3.5</td><td>237</td></tr><tr><td>1002</td><td>D001</td><td>2024-12-30T16:28:14Z</td><td>4.858</td><td>6.55</td><td>4.5</td><td>221</td></tr><tr><td>1006</td><td>D002</td><td>2024-12-30T16:28:15Z</td><td>2.799</td><td>2.2</td><td>4.0</td><td>228</td></tr><tr><td>1008</td><td>D001</td><td>2024-12-30T16:28:16Z</td><td>3.672</td><td>5.11</td><td>4.0</td><td>226</td></tr><tr><td>1002</td><td>D005</td><td>2024-12-30T16:28:17Z</td><td>2.772</td><td>1.99</td><td>4.5</td><td>225</td></tr><tr><td>1004</td><td>D005</td><td>2024-12-30T16:28:18Z</td><td>2.154</td><td>7.95</td><td>4.5</td><td>238</td></tr></tbody></table></div>"
      ]
     },
     "metadata": {
      "application/vnd.databricks.v1+output": {
       "addedWidgets": {},
       "aggData": [],
       "aggError": "",
       "aggOverflow": false,
       "aggSchema": [],
       "aggSeriesLimitReached": false,
       "aggType": "",
       "arguments": {},
       "columnCustomDisplayInfos": {},
       "data": [
        [
         "1010",
         "D002",
         "2024-12-30T16:26:32Z",
         0.258,
         2.79,
         5.0,
         221
        ],
        [
         "1010",
         "D005",
         "2024-12-30T16:26:33Z",
         0.27,
         3.87,
         5.0,
         233
        ],
        [
         "1007",
         "D005",
         "2024-12-30T16:26:35Z",
         0.366,
         7.06,
         3.5,
         220
        ],
        [
         "1001",
         "D002",
         "2024-12-30T16:26:36Z",
         0.758,
         7.93,
         5.0,
         224
        ],
        [
         "1003",
         "D004",
         "2024-12-30T16:26:37Z",
         2.567,
         5.88,
         4.5,
         238
        ],
        [
         "1005",
         "D001",
         "2024-12-30T16:26:38Z",
         3.889,
         4.03,
         4.0,
         230
        ],
        [
         "1010",
         "D003",
         "2024-12-30T16:26:40Z",
         3.353,
         9.95,
         4.5,
         231
        ],
        [
         "1005",
         "D005",
         "2024-12-30T16:26:41Z",
         1.704,
         6.44,
         3.5,
         222
        ],
        [
         "1002",
         "D002",
         "2024-12-30T16:26:42Z",
         3.149,
         0.95,
         4.5,
         231
        ],
        [
         "1007",
         "D002",
         "2024-12-30T16:26:43Z",
         0.152,
         4.28,
         3.5,
         230
        ],
        [
         "1006",
         "D002",
         "2024-12-30T16:26:44Z",
         3.472,
         7.89,
         5.0,
         235
        ],
        [
         "1007",
         "D005",
         "2024-12-30T16:26:46Z",
         1.121,
         9.46,
         4.0,
         232
        ],
        [
         "1009",
         "D001",
         "2024-12-30T16:26:47Z",
         1.122,
         2.41,
         5.0,
         232
        ],
        [
         "1007",
         "D001",
         "2024-12-30T16:26:48Z",
         1.459,
         6.62,
         4.0,
         225
        ],
        [
         "1002",
         "D003",
         "2024-12-30T16:26:49Z",
         1.927,
         3.28,
         4.5,
         232
        ],
        [
         "1008",
         "D003",
         "2024-12-30T16:26:50Z",
         3.269,
         5.21,
         4.0,
         233
        ],
        [
         "1009",
         "D002",
         "2024-12-30T16:26:52Z",
         4.829,
         5.02,
         4.0,
         226
        ],
        [
         "1002",
         "D005",
         "2024-12-30T16:26:53Z",
         3.776,
         3.75,
         5.0,
         222
        ],
        [
         "1005",
         "D003",
         "2024-12-30T16:26:54Z",
         1.805,
         1.41,
         5.0,
         238
        ],
        [
         "1005",
         "D004",
         "2024-12-30T16:26:55Z",
         3.16,
         1.26,
         4.0,
         236
        ],
        [
         "1003",
         "D004",
         "2024-12-30T16:26:56Z",
         3.379,
         6.74,
         4.0,
         226
        ],
        [
         "1001",
         "D001",
         "2024-12-30T16:26:58Z",
         4.353,
         1.55,
         5.0,
         237
        ],
        [
         "1009",
         "D005",
         "2024-12-30T16:26:59Z",
         1.728,
         5.38,
         4.5,
         227
        ],
        [
         "1005",
         "D004",
         "2024-12-30T16:27:00Z",
         0.575,
         6.13,
         4.5,
         232
        ],
        [
         "1003",
         "D002",
         "2024-12-30T16:27:01Z",
         3.703,
         9.53,
         4.5,
         225
        ],
        [
         "1007",
         "D003",
         "2024-12-30T16:27:02Z",
         2.91,
         4.18,
         3.5,
         234
        ],
        [
         "1001",
         "D004",
         "2024-12-30T16:27:04Z",
         2.591,
         7.6,
         4.5,
         231
        ],
        [
         "1002",
         "D003",
         "2024-12-30T16:27:05Z",
         0.268,
         1.4,
         3.5,
         232
        ],
        [
         "1005",
         "D002",
         "2024-12-30T16:27:06Z",
         2.724,
         2.91,
         4.5,
         234
        ],
        [
         "1009",
         "D003",
         "2024-12-30T16:27:07Z",
         0.598,
         4.47,
         4.5,
         231
        ],
        [
         "1001",
         "D002",
         "2024-12-30T16:27:09Z",
         4.591,
         7.49,
         4.0,
         238
        ],
        [
         "1005",
         "D002",
         "2024-12-30T16:27:10Z",
         1.022,
         7.11,
         3.5,
         221
        ],
        [
         "1009",
         "D003",
         "2024-12-30T16:27:11Z",
         2.393,
         2.49,
         5.0,
         225
        ],
        [
         "1004",
         "D005",
         "2024-12-30T16:27:12Z",
         2.779,
         9.33,
         5.0,
         239
        ],
        [
         "1002",
         "D002",
         "2024-12-30T16:27:13Z",
         2.939,
         5.85,
         4.5,
         226
        ],
        [
         "1004",
         "D001",
         "2024-12-30T16:27:14Z",
         0.648,
         7.07,
         5.0,
         239
        ],
        [
         "1009",
         "D004",
         "2024-12-30T16:27:16Z",
         2.925,
         1.84,
         5.0,
         236
        ],
        [
         "1004",
         "D001",
         "2024-12-30T16:27:17Z",
         4.226,
         5.21,
         3.5,
         234
        ],
        [
         "1001",
         "D002",
         "2024-12-30T16:27:18Z",
         0.132,
         7.24,
         4.0,
         230
        ],
        [
         "1002",
         "D003",
         "2024-12-30T16:27:19Z",
         0.482,
         1.36,
         4.0,
         238
        ],
        [
         "1007",
         "D004",
         "2024-12-30T16:27:20Z",
         1.095,
         5.29,
         4.0,
         220
        ],
        [
         "1003",
         "D002",
         "2024-12-30T16:27:21Z",
         4.236,
         5.29,
         3.5,
         237
        ],
        [
         "1004",
         "D003",
         "2024-12-30T16:27:22Z",
         2.385,
         6.34,
         4.5,
         237
        ],
        [
         "1005",
         "D001",
         "2024-12-30T16:27:24Z",
         2.414,
         4.84,
         5.0,
         236
        ],
        [
         "1008",
         "D001",
         "2024-12-30T16:27:25Z",
         0.211,
         8.47,
         4.0,
         226
        ],
        [
         "1007",
         "D001",
         "2024-12-30T16:27:26Z",
         3.657,
         5.12,
         5.0,
         232
        ],
        [
         "1002",
         "D004",
         "2024-12-30T16:27:27Z",
         2.615,
         6.59,
         4.5,
         234
        ],
        [
         "1005",
         "D001",
         "2024-12-30T16:27:28Z",
         4.97,
         1.82,
         4.5,
         229
        ],
        [
         "1007",
         "D002",
         "2024-12-30T16:27:31Z",
         2.175,
         6.99,
         5.0,
         229
        ],
        [
         "1005",
         "D005",
         "2024-12-30T16:27:33Z",
         1.842,
         0.82,
         3.5,
         228
        ],
        [
         "1006",
         "D003",
         "2024-12-30T16:27:34Z",
         3.309,
         7.08,
         4.0,
         231
        ],
        [
         "1004",
         "D005",
         "2024-12-30T16:27:35Z",
         1.223,
         8.86,
         4.0,
         233
        ],
        [
         "1002",
         "D001",
         "2024-12-30T16:27:36Z",
         0.614,
         1.03,
         5.0,
         240
        ],
        [
         "1004",
         "D001",
         "2024-12-30T16:27:37Z",
         0.969,
         6.27,
         4.5,
         221
        ],
        [
         "1002",
         "D003",
         "2024-12-30T16:27:39Z",
         3.549,
         3.65,
         5.0,
         239
        ],
        [
         "1008",
         "D003",
         "2024-12-30T16:27:40Z",
         2.99,
         8.55,
         4.5,
         232
        ],
        [
         "1004",
         "D001",
         "2024-12-30T16:27:41Z",
         4.271,
         2.35,
         3.5,
         227
        ],
        [
         "1001",
         "D005",
         "2024-12-30T16:27:42Z",
         3.459,
         2.31,
         3.5,
         220
        ],
        [
         "1010",
         "D004",
         "2024-12-30T16:27:44Z",
         3.129,
         9.63,
         4.5,
         234
        ],
        [
         "1003",
         "D003",
         "2024-12-30T16:27:46Z",
         0.12,
         1.65,
         5.0,
         233
        ],
        [
         "1003",
         "D003",
         "2024-12-30T16:27:47Z",
         0.18,
         4.16,
         4.0,
         233
        ],
        [
         "1006",
         "D002",
         "2024-12-30T16:27:48Z",
         3.971,
         2.96,
         5.0,
         225
        ],
        [
         "1009",
         "D005",
         "2024-12-30T16:27:50Z",
         3.957,
         4.03,
         4.0,
         228
        ],
        [
         "1009",
         "D003",
         "2024-12-30T16:27:51Z",
         1.8,
         1.84,
         4.5,
         236
        ],
        [
         "1002",
         "D005",
         "2024-12-30T16:27:52Z",
         3.543,
         5.15,
         3.5,
         231
        ],
        [
         "1007",
         "D003",
         "2024-12-30T16:27:53Z",
         2.032,
         3.39,
         5.0,
         231
        ],
        [
         "1008",
         "D003",
         "2024-12-30T16:27:54Z",
         1.103,
         5.13,
         5.0,
         227
        ],
        [
         "1010",
         "D005",
         "2024-12-30T16:27:56Z",
         2.294,
         4.35,
         5.0,
         226
        ],
        [
         "1001",
         "D002",
         "2024-12-30T16:27:57Z",
         1.918,
         4.8,
         3.5,
         221
        ],
        [
         "1004",
         "D005",
         "2024-12-30T16:27:58Z",
         2.298,
         3.05,
         4.5,
         228
        ],
        [
         "1008",
         "D003",
         "2024-12-30T16:27:59Z",
         3.233,
         9.48,
         4.0,
         231
        ],
        [
         "1002",
         "D003",
         "2024-12-30T16:28:01Z",
         3.562,
         8.83,
         4.5,
         223
        ],
        [
         "1003",
         "D002",
         "2024-12-30T16:28:02Z",
         0.469,
         4.39,
         4.5,
         226
        ],
        [
         "1004",
         "D005",
         "2024-12-30T16:28:03Z",
         1.446,
         2.42,
         4.5,
         233
        ],
        [
         "1001",
         "D005",
         "2024-12-30T16:28:04Z",
         4.55,
         2.39,
         4.5,
         240
        ],
        [
         "1003",
         "D003",
         "2024-12-30T16:28:06Z",
         4.269,
         5.11,
         4.5,
         234
        ],
        [
         "1007",
         "D004",
         "2024-12-30T16:28:07Z",
         3.512,
         4.54,
         4.5,
         223
        ],
        [
         "1006",
         "D001",
         "2024-12-30T16:28:08Z",
         4.591,
         8.03,
         4.5,
         238
        ],
        [
         "1010",
         "D003",
         "2024-12-30T16:28:09Z",
         3.79,
         3.06,
         5.0,
         236
        ],
        [
         "1002",
         "D002",
         "2024-12-30T16:28:10Z",
         2.292,
         7.72,
         4.5,
         221
        ],
        [
         "1006",
         "D005",
         "2024-12-30T16:28:11Z",
         3.263,
         4.21,
         3.5,
         240
        ],
        [
         "1009",
         "D001",
         "2024-12-30T16:28:13Z",
         3.702,
         3.81,
         3.5,
         237
        ],
        [
         "1002",
         "D001",
         "2024-12-30T16:28:14Z",
         4.858,
         6.55,
         4.5,
         221
        ],
        [
         "1006",
         "D002",
         "2024-12-30T16:28:15Z",
         2.799,
         2.2,
         4.0,
         228
        ],
        [
         "1008",
         "D001",
         "2024-12-30T16:28:16Z",
         3.672,
         5.11,
         4.0,
         226
        ],
        [
         "1002",
         "D005",
         "2024-12-30T16:28:17Z",
         2.772,
         1.99,
         4.5,
         225
        ],
        [
         "1004",
         "D005",
         "2024-12-30T16:28:18Z",
         2.154,
         7.95,
         4.5,
         238
        ]
       ],
       "datasetInfos": [],
       "dbfsResultPath": null,
       "isJsonSchema": true,
       "metadata": {
        "isDbfsCommandResult": false
       },
       "overflow": false,
       "plotOptions": {
        "customPlotOptions": {},
        "displayType": "table",
        "pivotAggregation": null,
        "pivotColumns": null,
        "xColumns": null,
        "yColumns": null
       },
       "removedWidgets": [],
       "schema": [
        {
         "metadata": "{}",
         "name": "Consumer_ID",
         "type": "\"string\""
        },
        {
         "metadata": "{}",
         "name": "Device_ID",
         "type": "\"string\""
        },
        {
         "metadata": "{}",
         "name": "Timestamp",
         "type": "\"timestamp\""
        },
        {
         "metadata": "{}",
         "name": "Energy_Consumption_kWh",
         "type": "\"float\""
        },
        {
         "metadata": "{}",
         "name": "Peak_Demand_kW",
         "type": "\"float\""
        },
        {
         "metadata": "{}",
         "name": "Threshold_Limit_kWh",
         "type": "\"float\""
        },
        {
         "metadata": "{}",
         "name": "Voltage_Level",
         "type": "\"integer\""
        }
       ],
       "type": "table"
      }
     },
     "output_type": "display_data"
    }
   ],
   "source": [
    "import pyspark.sql.functions as F\n",
    "\n",
    "eh_stream = spark.readStream.format(\"eventhubs\").options(**ehConfig).load().withColumn('body',F.from_json(F.col('body').cast('string'),json_schema))\n",
    "eh_stream = eh_stream.select('body.*')\n",
    "display(eh_stream)"
   ]
  },
  {
   "cell_type": "code",
   "execution_count": 0,
   "metadata": {
    "application/vnd.databricks.v1+cell": {
     "cellMetadata": {},
     "inputWidgets": {},
     "nuid": "1b49f17a-8ed0-4fa9-b8d4-8be5497e57de",
     "showTitle": false,
     "tableResultSettingsMap": {},
     "title": ""
    }
   },
   "outputs": [],
   "source": []
  }
 ],
 "metadata": {
  "application/vnd.databricks.v1+notebook": {
   "computePreferences": null,
   "dashboards": [],
   "environmentMetadata": {
    "base_environment": "",
    "client": "1"
   },
   "language": "python",
   "notebookMetadata": {
    "pythonIndentUnit": 4
   },
   "notebookName": "iot_streaming",
   "widgets": {}
  },
  "language_info": {
   "name": "python"
  }
 },
 "nbformat": 4,
 "nbformat_minor": 0
}
